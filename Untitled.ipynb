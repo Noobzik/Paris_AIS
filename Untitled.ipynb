{
 "cells": [
  {
   "cell_type": "code",
   "execution_count": 1,
   "id": "661433d0-b994-4172-b0e1-76153c827672",
   "metadata": {},
   "outputs": [],
   "source": [
    "import requests\n",
    "import pandas as pd"
   ]
  },
  {
   "cell_type": "code",
   "execution_count": 2,
   "id": "b14e1ba4",
   "metadata": {},
   "outputs": [],
   "source": [
    "url = \"https://opendata.paris.fr/api/v2\""
   ]
  },
  {
   "cell_type": "code",
   "execution_count": 3,
   "id": "058a4763-7425-4a7e-8bb3-d188c35d8401",
   "metadata": {},
   "outputs": [],
   "source": [
    "dataset_name = \"/catalog/datasets/comptages-routiers-permanents/exports/csv?limit=-1&offset=0&\""
   ]
  },
  {
   "cell_type": "code",
   "execution_count": 4,
   "id": "b5c748a6-20e1-452a-945d-38900b86337c",
   "metadata": {},
   "outputs": [],
   "source": [
    "where = \"refine=t_1h%3A%272021-12-13%27&timezone=UTC\""
   ]
  },
  {
   "cell_type": "code",
   "execution_count": 5,
   "id": "ba546343-1995-47b7-8973-54e1c4fc593f",
   "metadata": {},
   "outputs": [],
   "source": [
    "response = requests.get(url+dataset_name+where)"
   ]
  },
  {
   "cell_type": "code",
   "execution_count": null,
   "id": "c921100c-7ac3-4bc5-a154-e25a3b6d95c1",
   "metadata": {},
   "outputs": [],
   "source": [
    "print(response.json())"
   ]
  },
  {
   "cell_type": "code",
   "execution_count": 44,
   "id": "6fb0ec2b-33a2-4ba2-85bb-85b07f4dc4f7",
   "metadata": {},
   "outputs": [],
   "source": []
  },
  {
   "cell_type": "code",
   "execution_count": null,
   "id": "3655aaf5-55ed-4540-86e4-a9b942d65825",
   "metadata": {},
   "outputs": [],
   "source": [
    "# /api/records/1.0/search/?dataset=comptages-routiers-permanents&q=&lang=fr&sort=t_1h&facet=libelle&facet=t_1h&facet=etat_trafic&facet=libelle_nd_amont&facet=libelle_nd_aval&facet=iu_ac&facet=iu_nd_amont&facet=iu_nd_aval&facet=q&facet=k&facet=etat_barre&refine.t_1h=2021-12-12"
   ]
  },
  {
   "cell_type": "code",
   "execution_count": 49,
   "id": "aec6f87f-e66b-4248-9204-e34e890db1c5",
   "metadata": {},
   "outputs": [],
   "source": [
    "df = pd.read_csv(response)"
   ]
  },
  {
   "cell_type": "code",
   "execution_count": 46,
   "id": "4c97860c-cceb-4663-abdd-4fa1a20da67a",
   "metadata": {},
   "outputs": [
    {
     "data": {
      "text/html": [
       "<div>\n",
       "<style scoped>\n",
       "    .dataframe tbody tr th:only-of-type {\n",
       "        vertical-align: middle;\n",
       "    }\n",
       "\n",
       "    .dataframe tbody tr th {\n",
       "        vertical-align: top;\n",
       "    }\n",
       "\n",
       "    .dataframe thead th {\n",
       "        text-align: right;\n",
       "    }\n",
       "</style>\n",
       "<table border=\"1\" class=\"dataframe\">\n",
       "  <thead>\n",
       "    <tr style=\"text-align: right;\">\n",
       "      <th></th>\n",
       "      <th>total_count</th>\n",
       "      <th>links</th>\n",
       "      <th>records</th>\n",
       "    </tr>\n",
       "  </thead>\n",
       "  <tbody>\n",
       "    <tr>\n",
       "      <th>0</th>\n",
       "      <td>71568</td>\n",
       "      <td>[{'href': 'https://opendata.paris.fr/api/v2/ca...</td>\n",
       "      <td>[{'links': [{'href': 'https://opendata.paris.f...</td>\n",
       "    </tr>\n",
       "  </tbody>\n",
       "</table>\n",
       "</div>"
      ],
      "text/plain": [
       "   total_count                                              links  \\\n",
       "0        71568  [{'href': 'https://opendata.paris.fr/api/v2/ca...   \n",
       "\n",
       "                                             records  \n",
       "0  [{'links': [{'href': 'https://opendata.paris.f...  "
      ]
     },
     "execution_count": 46,
     "metadata": {},
     "output_type": "execute_result"
    }
   ],
   "source": [
    "df"
   ]
  },
  {
   "cell_type": "code",
   "execution_count": null,
   "id": "7017dfca-efd8-472d-9e7c-8e60d2a967a3",
   "metadata": {},
   "outputs": [],
   "source": []
  }
 ],
 "metadata": {
  "kernelspec": {
   "display_name": "Python 3 (ipykernel)",
   "language": "python",
   "name": "python3"
  },
  "language_info": {
   "codemirror_mode": {
    "name": "ipython",
    "version": 3
   },
   "file_extension": ".py",
   "mimetype": "text/x-python",
   "name": "python",
   "nbconvert_exporter": "python",
   "pygments_lexer": "ipython3",
   "version": "3.9.7"
  }
 },
 "nbformat": 4,
 "nbformat_minor": 5
}
