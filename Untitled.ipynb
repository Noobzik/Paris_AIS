{
 "cells": [
  {
   "cell_type": "code",
   "execution_count": 13,
   "id": "661433d0-b994-4172-b0e1-76153c827672",
   "metadata": {},
   "outputs": [],
   "source": [
    "import requests\n",
    "url = \"https://opendata.paris.fr/api/v2\"\n",
    "#response = requests.get('https://opendata.paris.fr/api/v2')"
   ]
  },
  {
   "cell_type": "code",
   "execution_count": 14,
   "id": "c8a1de45-a623-43be-a26a-eae4e4662cf2",
   "metadata": {},
   "outputs": [
    {
     "name": "stdout",
     "output_type": "stream",
     "text": [
      "<Response [200]>\n"
     ]
    }
   ],
   "source": [
    "print(response)"
   ]
  },
  {
   "cell_type": "code",
   "execution_count": 18,
   "id": "058a4763-7425-4a7e-8bb3-d188c35d8401",
   "metadata": {},
   "outputs": [],
   "source": [
    "dataset_name = \"/catalog/datasets/comptages-routiers-permanents/records/date_debut\""
   ]
  },
  {
   "cell_type": "code",
   "execution_count": 19,
   "id": "ba546343-1995-47b7-8973-54e1c4fc593f",
   "metadata": {},
   "outputs": [],
   "source": [
    "response = requests.get(url+dataset_name)"
   ]
  },
  {
   "cell_type": "code",
   "execution_count": 20,
   "id": "c921100c-7ac3-4bc5-a154-e25a3b6d95c1",
   "metadata": {},
   "outputs": [
    {
     "name": "stdout",
     "output_type": "stream",
     "text": [
      "{'message': 'The requested record date_debut does not exist.', 'error_code': 'NotFoundResource'}\n"
     ]
    }
   ],
   "source": [
    "print(response.json())"
   ]
  },
  {
   "cell_type": "code",
   "execution_count": null,
   "id": "3655aaf5-55ed-4540-86e4-a9b942d65825",
   "metadata": {},
   "outputs": [],
   "source": []
  }
 ],
 "metadata": {
  "kernelspec": {
   "display_name": "Python 3 (ipykernel)",
   "language": "python",
   "name": "python3"
  },
  "language_info": {
   "codemirror_mode": {
    "name": "ipython",
    "version": 3
   },
   "file_extension": ".py",
   "mimetype": "text/x-python",
   "name": "python",
   "nbconvert_exporter": "python",
   "pygments_lexer": "ipython3",
   "version": "3.9.7"
  }
 },
 "nbformat": 4,
 "nbformat_minor": 5
}
